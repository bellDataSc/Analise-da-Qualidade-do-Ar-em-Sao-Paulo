# Importar bibliotecas
import pandas as pd
import numpy as np
import matplotlib.pyplot as plt
import seaborn as sns

# Configurações de visualização
sns.set(style="whitegrid")

# Carregar os dados
df = pd.read_csv('/kaggle/input/dados-sp-ar-qualidade/Dados_SP_AR_Qualidade.csv')

# Verificar as primeiras linhas do dataframe
df.head()
